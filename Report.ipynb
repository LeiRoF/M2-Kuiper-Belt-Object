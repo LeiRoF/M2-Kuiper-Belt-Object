{
 "cells": [
  {
   "cell_type": "code",
   "execution_count": 5,
   "metadata": {},
   "outputs": [],
   "source": [
    "import os\n",
    "import numpy as np\n",
    "from astropy.io import fits\n",
    "import matplotlib.pyplot as plt\n",
    "from src import image\n",
    "from copy import deepcopy as copy\n",
    "from LRFutils import color"
   ]
  },
  {
   "cell_type": "markdown",
   "metadata": {},
   "source": [
    "First, we compute the shift of each images relatively to the first one. To do so, we take a reference star and get the approximative position. We define a sufficiently big box around it where the star should appear on all images. Finally, we run the algorithme that detect the source and we compare the coordinates to deduce the shift."
   ]
  },
  {
   "cell_type": "code",
   "execution_count": 6,
   "metadata": {},
   "outputs": [
    {
     "name": "stdout",
     "output_type": "stream",
     "text": [
      "Image shifts:\n",
      "    td10r_n2_0096.fits: x=0.000, y=0.000\n",
      "    td10r_n2_0098.fits: x=0.251, y=0.277\n",
      "    td10r_n2_0100.fits: x=0.528, y=0.241\n",
      "    td10r_n2_0102.fits: x=1.075, y=0.324\n",
      "    td10r_n2_0104.fits: x=0.770, y=0.401\n",
      "    td10r_n2_0106.fits: x=1.086, y=0.422\n",
      "    td10r_n2_0108.fits: x=-70.855, y=-4.779\n",
      "    td10r_n2_0110.fits: x=-70.739, y=-4.672\n",
      "    td10r_n2_0112.fits: x=-70.540, y=-4.728\n",
      "    td10r_n2_0114.fits: x=-70.542, y=-4.754\n",
      "    td10r_n2_0116.fits: x=-75.443, y=36.101\n",
      "    td10r_n2_0118.fits: x=-75.346, y=36.117\n",
      "    td10r_n2_0123.fits: x=-30.407, y=-6.539\n",
      "    td10r_n2_0125.fits: x=-29.995, y=-6.062\n",
      "    td10r_n2_0127.fits: x=-29.862, y=-6.142\n",
      "    td10r_n2_0129.fits: x=-29.666, y=-6.033\n",
      "    td10r_n2_0131.fits: x=-28.322, y=-47.524\n",
      "    td10r_n2_0133.fits: x=-27.555, y=-47.885\n",
      "    td10r_n2_0135.fits: x=-61.413, y=-46.751\n",
      "    td10r_n2_0137.fits: x=-61.186, y=-46.692\n",
      "    td10r_n2_0144.fits: x=-46.295, y=17.827\n",
      "    td10r_n2_0146.fits: x=-46.212, y=17.954\n",
      "    td10r_n2_0148.fits: x=-46.098, y=17.872\n",
      "    td10r_n2_0150.fits: x=-45.904, y=17.898\n",
      "    td10r_n2_0152.fits: x=-45.686, y=17.877\n",
      "    td10r_n2_0154.fits: x=-45.581, y=17.895\n",
      "    td10r_n2_0156.fits: x=-77.622, y=-6.585\n",
      "    td10r_n2_0158.fits: x=-77.300, y=-6.689\n",
      "    td10r_n2_0163.fits: x=-65.389, y=14.301\n",
      "    td10r_n2_0165.fits: x=-65.234, y=14.339\n",
      "    td10r_n2_0167.fits: x=-92.515, y=-4.264\n",
      "    td10r_n2_0169.fits: x=-92.712, y=-4.318\n",
      "    td10r_n2_0171.fits: x=-92.124, y=-4.239\n"
     ]
    }
   ],
   "source": [
    "PARENT_PATH = \"rsrc/8_Oct/\" #@param {type:\"string\"}\n",
    "X = 1083 #@param {type:\"integer\"}\n",
    "Y = 660 #@param {type:\"integer\"}\n",
    "box_size = 200 #@param {type:\"integer\"}\n",
    "plot = False #@param {type:\"boolean\"}\n",
    "print_results = True #@param {type:\"boolean\"}\n",
    "\n",
    "positions = []\n",
    "shifts = []\n",
    "files = []\n",
    "\n",
    "if print_results: print(\"Image shifts:\")\n",
    "\n",
    "nbfiles = 0\n",
    "for file in os.listdir(PARENT_PATH):\n",
    "    path = os.path.join(PARENT_PATH, file)\n",
    "    if file.startswith(\"td10r\"):\n",
    "        nbfiles += 1\n",
    "        files.append(file)\n",
    "\n",
    "        positions.append(\n",
    "            image.find_object(\n",
    "                path,\n",
    "                Xcent=X,\n",
    "                Ycent=Y,\n",
    "                box_size=box_size,\n",
    "                plot=plot\n",
    "            )\n",
    "        )\n",
    "\n",
    "        shifts.append(copy(positions[-1]))\n",
    "        shifts[-1][0] -= positions[0][0]\n",
    "        shifts[-1][1] -= positions[0][1]\n",
    "        if print_results: print(f\"    {file}: x={shifts[-1][0]:.3f}, y={shifts[-1][1]:.3f}\")\n",
    "\n",
    "positions = np.array(positions)\n",
    "shifts = np.array(shifts)"
   ]
  },
  {
   "cell_type": "markdown",
   "metadata": {},
   "source": [
    "Once we have theses shifts, we can compute the position of the asteroid on each image by deducing it from the position on the first image and the one on the last image. We remove the shift of the last image to have the position of the object if the telescope was perfectly aligned.\n",
    "\n",
    "Then, we have an almost straight line and we can ddeduce the position of each image by looking at the long of the line."
   ]
  },
  {
   "cell_type": "code",
   "execution_count": 7,
   "metadata": {},
   "outputs": [
    {
     "name": "stdout",
     "output_type": "stream",
     "text": [
      "First position: x=1150, y=1157\n",
      "Last position: x=1264, y=1108\n"
     ]
    }
   ],
   "source": [
    "first_X = 1150 #@param {type:\"integer\"}\n",
    "first_Y = 1157 #@param {type:\"integer\"}  \n",
    "last_X = 1172 #@param {type:\"integer\"}\n",
    "last_Y = 1104 #@param {type:\"integer\"}\n",
    "\n",
    "first_position = [1150,1157]\n",
    "last_position = [1172-shifts[-1][0], 1104-shifts[-1][1]]\n",
    "print(f\"First position: x={first_position[0]}, y={first_position[1]}\")\n",
    "print(f\"Last position: x={last_position[0]:.0f}, y={last_position[1]:.0f}\")"
   ]
  },
  {
   "cell_type": "code",
   "execution_count": 8,
   "metadata": {},
   "outputs": [
    {
     "name": "stdout",
     "output_type": "stream",
     "text": [
      "Asteroïd location:\n",
      "    td10r_n2_0096.fits: x=1149.476, y=1155.764\n",
      "    td10r_n2_0098.fits: x=1153.065, y=1154.803\n",
      "    td10r_n2_0100.fits: x=1156.795, y=1153.275\n",
      "    td10r_n2_0102.fits: x=1160.082, y=1152.088\n",
      "    td10r_n2_0104.fits: x=1163.119, y=1150.910\n",
      "    td10r_n2_0106.fits: x=1166.214, y=1149.680\n",
      "    td10r_n2_0108.fits: x=1098.138, y=1142.832\n",
      "    td10r_n2_0110.fits: x=1101.293, y=1141.710\n",
      "    td10r_n2_0112.fits: x=1106.845, y=1139.266\n",
      "    td10r_n2_0114.fits: x=1109.833, y=1138.019\n",
      "    td10r_n2_0116.fits: x=1108.365, y=1177.248\n",
      "    td10r_n2_0118.fits: x=1111.691, y=1176.114\n",
      "    td10r_n2_0123.fits: x=1162.941, y=1130.871\n",
      "    td10r_n2_0125.fits: x=1166.305, y=1129.787\n",
      "    td10r_n2_0127.fits: x=1169.671, y=1128.348\n",
      "    td10r_n2_0129.fits: x=1172.986, y=1127.401\n",
      "    td10r_n2_0131.fits: x=1177.555, y=1084.333\n",
      "    td10r_n2_0133.fits: x=1181.321, y=1082.654\n",
      "    td10r_n2_0135.fits: x=1150.937, y=1082.377\n",
      "    td10r_n2_0137.fits: x=1154.124, y=1081.262\n",
      "    td10r_n2_0144.fits: x=1176.226, y=1142.700\n",
      "    td10r_n2_0146.fits: x=1179.378, y=1141.454\n",
      "    td10r_n2_0148.fits: x=1182.834, y=1139.957\n",
      "    td10r_n2_0150.fits: x=1185.867, y=1138.762\n",
      "    td10r_n2_0152.fits: x=1189.245, y=1137.213\n",
      "    td10r_n2_0154.fits: x=1192.306, y=1136.033\n",
      "    td10r_n2_0156.fits: x=1163.988, y=1109.971\n",
      "    td10r_n2_0158.fits: x=1167.189, y=1108.568\n",
      "    td10r_n2_0163.fits: x=1184.949, y=1127.106\n",
      "    td10r_n2_0165.fits: x=1188.250, y=1125.864\n",
      "    td10r_n2_0167.fits: x=1164.038, y=1105.877\n",
      "    td10r_n2_0169.fits: x=1167.093, y=1104.684\n",
      "    td10r_n2_0171.fits: x=1171.329, y=1102.988\n"
     ]
    }
   ],
   "source": [
    "plot = False #@param {type:\"boolean\"}\n",
    "print_results = True #@param {type:\"boolean\"}\n",
    "\n",
    "object_position = np.empty((nbfiles, 2))\n",
    "\n",
    "object_position[:,0] = np.linspace(first_position[0], last_position[0], nbfiles, endpoint=True)\n",
    "object_position[:,1] = np.linspace(first_position[1], last_position[1], nbfiles, endpoint=True)\n",
    "\n",
    "object_position[:,0] += shifts[:,0]\n",
    "object_position[:,1] += shifts[:,1]\n",
    "\n",
    "i = 0\n",
    "corrected_object_position = []\n",
    "\n",
    "if print_results: print(\"Asteroïd location:\")\n",
    "\n",
    "for file in os.listdir(PARENT_PATH):\n",
    "    path = os.path.join(PARENT_PATH, file)\n",
    "    if file.startswith(\"td10r\"):\n",
    "        corrected_object_position.append(\n",
    "            image.find_object(\n",
    "                path,\n",
    "                Xcent=int(object_position[i,0]),\n",
    "                Ycent=int(object_position[i,1]),\n",
    "                box_size=20,\n",
    "                plot=plot\n",
    "            )\n",
    "        )\n",
    "        if print_results:\n",
    "            print(f\"    {file}: x={corrected_object_position[-1][0]:.3f}, y={corrected_object_position[-1][1]:.3f}\")\n",
    "        i += 1"
   ]
  }
 ],
 "metadata": {
  "kernelspec": {
   "display_name": "Python 3.10.8 ('venv': venv)",
   "language": "python",
   "name": "python3"
  },
  "language_info": {
   "codemirror_mode": {
    "name": "ipython",
    "version": 3
   },
   "file_extension": ".py",
   "mimetype": "text/x-python",
   "name": "python",
   "nbconvert_exporter": "python",
   "pygments_lexer": "ipython3",
   "version": "3.10.8"
  },
  "orig_nbformat": 4,
  "vscode": {
   "interpreter": {
    "hash": "5e1a5677405982138fb7cda10387f60f75b3b0f76e4515f4897abcbae4851f55"
   }
  }
 },
 "nbformat": 4,
 "nbformat_minor": 2
}
